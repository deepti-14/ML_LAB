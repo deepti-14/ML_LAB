{
 "cells": [
  {
   "cell_type": "code",
   "execution_count": 2,
   "id": "c47bf290",
   "metadata": {},
   "outputs": [],
   "source": [
    "# Prior probabilities\n",
    "prior_probabilities = {\n",
    "    \"Surgery\": {\"None\": 100/130, \"Long Cancer\": 20/130, \"Breast Cancer\": 10/130},\n",
    "    \"No Surgery\": {\"None\": 0/100, \"Long Cancer\": 50/100, \"Breast Cancer\": 50/100}\n",
    "}\n",
    "\n",
    "# Loss matrix\n",
    "loss_matrix = {\n",
    "    \"Surgery\": {\"None\": 100, \"Long Cancer\": 20, \"Breast Cancer\": 10},\n",
    "    \"No Surgery\": {\"None\": 0, \"Long Cancer\": 50, \"Breast Cancer\": 50}\n",
    "}"
   ]
  },
  {
   "cell_type": "code",
   "execution_count": 3,
   "id": "d9236220",
   "metadata": {},
   "outputs": [
    {
     "name": "stdout",
     "output_type": "stream",
     "text": [
      "Expected Losses: {'Surgery': 80.76923076923079, 'No Surgery': 50.0}\n",
      "Action with Minimum Expected Loss: No Surgery\n"
     ]
    }
   ],
   "source": [
    "# Calculate expected losses\n",
    "expected_losses = {}\n",
    "for action in prior_probabilities:\n",
    "    expected_loss = sum(prior_probabilities[action][outcome] * loss_matrix[action][outcome] for outcome in prior_probabilities[action])\n",
    "    expected_losses[action] = expected_loss\n",
    "\n",
    "# Find action with minimum expected loss\n",
    "min_expected_loss_action = min(expected_losses, key=expected_losses.get)\n",
    "\n",
    "print(\"Expected Losses:\", expected_losses)\n",
    "print(\"Action with Minimum Expected Loss:\", min_expected_loss_action)"
   ]
  },
  {
   "cell_type": "code",
   "execution_count": null,
   "id": "b2efc464",
   "metadata": {},
   "outputs": [],
   "source": []
  }
 ],
 "metadata": {
  "kernelspec": {
   "display_name": "Python 3 (ipykernel)",
   "language": "python",
   "name": "python3"
  },
  "language_info": {
   "codemirror_mode": {
    "name": "ipython",
    "version": 3
   },
   "file_extension": ".py",
   "mimetype": "text/x-python",
   "name": "python",
   "nbconvert_exporter": "python",
   "pygments_lexer": "ipython3",
   "version": "3.11.4"
  }
 },
 "nbformat": 4,
 "nbformat_minor": 5
}
